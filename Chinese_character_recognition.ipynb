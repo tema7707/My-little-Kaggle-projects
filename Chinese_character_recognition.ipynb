{
  "nbformat": 4,
  "nbformat_minor": 0,
  "metadata": {
    "colab": {
      "name": "Chinese character recognition.ipynb",
      "provenance": [],
      "collapsed_sections": [],
      "include_colab_link": true
    },
    "kernelspec": {
      "name": "python3",
      "display_name": "Python 3"
    },
    "accelerator": "GPU"
  },
  "cells": [
    {
      "cell_type": "markdown",
      "metadata": {
        "id": "view-in-github",
        "colab_type": "text"
      },
      "source": [
        "<a href=\"https://colab.research.google.com/github/tema7707/My-little-Kaggle-projects/blob/master/Chinese_character_recognition.ipynb\" target=\"_parent\"><img src=\"https://colab.research.google.com/assets/colab-badge.svg\" alt=\"Open In Colab\"/></a>"
      ]
    },
    {
      "cell_type": "markdown",
      "metadata": {
        "id": "stY0HCHOO6rg",
        "colab_type": "text"
      },
      "source": [
        "## Chinese character recognition\n",
        "\n",
        "Download dataset from Kaggle\n",
        "\n",
        "https://www.kaggle.com/c/chinese-char-recognition-smmo19"
      ]
    },
    {
      "cell_type": "code",
      "metadata": {
        "id": "w6jjcym5jje8",
        "colab_type": "code",
        "colab": {}
      },
      "source": [
        "!pip install -q kaggle/\n",
        "from google.colab import files\n",
        "files.upload()\n",
        "!mkdir ~/.kaggle\n",
        "!cp kaggle.json ~/.kaggle/\n",
        "!chmod 600 ~/.kaggle/kaggle.json\n",
        "!kaggle datasets list"
      ],
      "execution_count": 0,
      "outputs": []
    },
    {
      "cell_type": "code",
      "metadata": {
        "id": "VbxQjdNKj0de",
        "colab_type": "code",
        "colab": {}
      },
      "source": [
        "!kaggle competitions download -c chinese-char-recognition-smmo19\n",
        "!unzip train-1.npy.zip -d characters\n",
        "!unzip train-2.npy.zip -d characters\n",
        "!unzip train-3.npy.zip -d characters\n",
        "!unzip train-4.npy.zip -d characters\n",
        "!unzip test.npy.zip -d characters"
      ],
      "execution_count": 0,
      "outputs": []
    },
    {
      "cell_type": "markdown",
      "metadata": {
        "id": "2TF3RqQ1PUe5",
        "colab_type": "text"
      },
      "source": [
        "Import packages and visualize data"
      ]
    },
    {
      "cell_type": "code",
      "metadata": {
        "id": "mKhONw7kkVAw",
        "colab_type": "code",
        "colab": {}
      },
      "source": [
        "!pip install numpy==1.16.1\n",
        "import numpy as np\n",
        "import random\n",
        "import cv2\n",
        "import os\n",
        "from google.colab.patches import cv2_imshow\n",
        "import matplotlib.pyplot as plt"
      ],
      "execution_count": 0,
      "outputs": []
    },
    {
      "cell_type": "code",
      "metadata": {
        "id": "Yqu3Vce4lcqJ",
        "colab_type": "code",
        "outputId": "607ecfb4-2d5d-4097-bdd9-fb8d0b13830d",
        "colab": {
          "base_uri": "https://localhost:8080/",
          "height": 569
        }
      },
      "source": [
        "def show():\n",
        "  fig = plt.figure(figsize=(14, 8))\n",
        "  i = 1\n",
        "  for sample in random.choices(data, k=6):\n",
        "    fig.add_subplot(2, 3, i)\n",
        "    plt.imshow(sample[0], cmap='gray')\n",
        "    plt.title(sample[1])\n",
        "    i += 1\n",
        "  plt.show()\n",
        "\n",
        "# load train_set\n",
        "if not os.path.exists(\"/content/imgs/\"):\n",
        "  os.makedirs(\"/content/imgs/\")\n",
        "for train_num in range(1,5):\n",
        "  data = np.load(\"characters/train-{}.npy\".format(train_num))\n",
        "  X_train = data[:,0]\n",
        "  y_train = data[:,1]\n",
        "  for i in np.unique(y_train):\n",
        "    directory = \"/content/imgs/{}\".format(i)\n",
        "    if not os.path.exists(directory):\n",
        "      os.makedirs(directory)\n",
        "\n",
        "  for i in range(len(data)):\n",
        "    cv2.imwrite('/content/imgs/{}/{}.png'.format(y_train[i],i+90000*2000), X_train[i])\n",
        "\n",
        "show()"
      ],
      "execution_count": 2,
      "outputs": [
        {
          "output_type": "stream",
          "text": [
            "(83246, 2)\n",
            "(83247, 2)\n",
            "(83247, 2)\n",
            "(83247, 2)\n"
          ],
          "name": "stdout"
        },
        {
          "output_type": "display_data",
          "data": {
            "image/png": "[encoded data removed]",
            "text/plain": [
              "<Figure size 1008x576 with 6 Axes>"
            ]
          },
          "metadata": {
            "tags": []
          }
        }
      ]
    },
    {
      "cell_type": "markdown",
      "metadata": {
        "id": "GtQSHDi7P8du",
        "colab_type": "text"
      },
      "source": [
        "### I want to learn ensemble of 10 CNN. \n",
        "\n",
        "For this action I need a lot of images. So let's do augmentation  and some normalization. I resize each image to a size of 28x28. "
      ]
    },
    {
      "cell_type": "code",
      "metadata": {
        "id": "yKu6irC4xx8f",
        "colab_type": "code",
        "outputId": "2ac1b059-9603-4840-b181-4f0e93da078c",
        "colab": {
          "base_uri": "https://localhost:8080/",
          "height": 708
        }
      },
      "source": [
        "from keras.preprocessing.image import ImageDataGenerator\n",
        "\n",
        "train_datagen = [None] * 10\n",
        "training_set = [None] * 10\n",
        "test_set = [None] * 10\n",
        "for i in range(10):\n",
        "  train_datagen[i] = ImageDataGenerator(\n",
        "      rescale = 1./255,\n",
        "      zoom_range = 0.1,\n",
        "      height_shift_range = 0.1,\n",
        "      width_shift_range = 0.1,\n",
        "      rotation_range = 10,\n",
        "      validation_split=0.2)\n",
        "\n",
        "  training_set[i] = train_datagen[i].flow_from_directory(\n",
        "      '/content/imgs/',\n",
        "      target_size=(28,28),\n",
        "      batch_size=32,\n",
        "      color_mode='grayscale',\n",
        "      subset='training'\n",
        "    )\n",
        "  test_set[i] = train_datagen[i].flow_from_directory(\n",
        "      '/content/imgs/',\n",
        "      target_size=(28,28),\n",
        "      batch_size=32,\n",
        "      color_mode='grayscale',\n",
        "      subset='validation'\n",
        "    )\n",
        "\n",
        "  # Check img\n",
        "  batch = training_set[i].next()\n",
        "  cv2_imshow(batch[0][25] * 255)\n",
        "  batch[0][25].shape"
      ],
      "execution_count": 3,
      "outputs": [
        {
          "output_type": "stream",
          "text": [
            "Using TensorFlow backend.\n"
          ],
          "name": "stderr"
        },
        {
          "output_type": "display_data",
          "data": {
            "text/html": [
              "<p style=\"color: red;\">\n",
              "The default version of TensorFlow in Colab will soon switch to TensorFlow 2.x.<br>\n",
              "We recommend you <a href=\"https://www.tensorflow.org/guide/migrate\" target=\"_blank\">upgrade</a> now \n",
              "or ensure your notebook will continue to use TensorFlow 1.x via the <code>%tensorflow_version 1.x</code> magic:\n",
              "<a href=\"https://colab.research.google.com/notebooks/tensorflow_version.ipynb\" target=\"_blank\">more info</a>.</p>\n"
            ],
            "text/plain": [
              "<IPython.core.display.HTML object>"
            ]
          },
          "metadata": {
            "tags": []
          }
        },
        {
          "output_type": "stream",
          "text": [
            "Found 266389 images belonging to 1000 classes.\n",
            "Found 66095 images belonging to 1000 classes.\n"
          ],
          "name": "stdout"
        },
        {
          "output_type": "display_data",
          "data": {
            "image/png": "[encoded data removed]",
            "text/plain": [
              "<PIL.Image.Image image mode=RGB size=28x28 at 0x7F66B4273240>"
            ]
          },
          "metadata": {
            "tags": []
          }
        },
        {
          "output_type": "stream",
          "text": [
            "Found 266389 images belonging to 1000 classes.\n",
            "Found 66095 images belonging to 1000 classes.\n"
          ],
          "name": "stdout"
        },
        {
          "output_type": "display_data",
          "data": {
            "image/png": "[encoded data removed]",
            "text/plain": [
              "<PIL.Image.Image image mode=RGB size=28x28 at 0x7F66B3596BA8>"
            ]
          },
          "metadata": {
            "tags": []
          }
        },
        {
          "output_type": "stream",
          "text": [
            "Found 266389 images belonging to 1000 classes.\n",
            "Found 66095 images belonging to 1000 classes.\n"
          ],
          "name": "stdout"
        },
        {
          "output_type": "display_data",
          "data": {
            "image/png": "[encoded data removed]",
            "text/plain": [
              "<PIL.Image.Image image mode=RGB size=28x28 at 0x7F66B9B571D0>"
            ]
          },
          "metadata": {
            "tags": []
          }
        },
        {
          "output_type": "stream",
          "text": [
            "Found 266389 images belonging to 1000 classes.\n",
            "Found 66095 images belonging to 1000 classes.\n"
          ],
          "name": "stdout"
        },
        {
          "output_type": "display_data",
          "data": {
            "image/png": "[encoded data removed]",
            "text/plain": [
              "<PIL.Image.Image image mode=RGB size=28x28 at 0x7F66B27D2F60>"
            ]
          },
          "metadata": {
            "tags": []
          }
        },
        {
          "output_type": "stream",
          "text": [
            "Found 266389 images belonging to 1000 classes.\n",
            "Found 66095 images belonging to 1000 classes.\n"
          ],
          "name": "stdout"
        },
        {
          "output_type": "display_data",
          "data": {
            "image/png": "[encoded data removed]",
            "text/plain": [
              "<PIL.Image.Image image mode=RGB size=28x28 at 0x7F66ACE0EE48>"
            ]
          },
          "metadata": {
            "tags": []
          }
        },
        {
          "output_type": "stream",
          "text": [
            "Found 266389 images belonging to 1000 classes.\n",
            "Found 66095 images belonging to 1000 classes.\n"
          ],
          "name": "stdout"
        },
        {
          "output_type": "display_data",
          "data": {
            "image/png": "[encoded data removed]",
            "text/plain": [
              "<PIL.Image.Image image mode=RGB size=28x28 at 0x7F66A9C82F28>"
            ]
          },
          "metadata": {
            "tags": []
          }
        },
        {
          "output_type": "stream",
          "text": [
            "Found 266389 images belonging to 1000 classes.\n",
            "Found 66095 images belonging to 1000 classes.\n"
          ],
          "name": "stdout"
        },
        {
          "output_type": "display_data",
          "data": {
            "image/png": "[encoded data removed]",
            "text/plain": [
              "<PIL.Image.Image image mode=RGB size=28x28 at 0x7F66A9AA0C50>"
            ]
          },
          "metadata": {
            "tags": []
          }
        },
        {
          "output_type": "stream",
          "text": [
            "Found 266389 images belonging to 1000 classes.\n",
            "Found 66095 images belonging to 1000 classes.\n"
          ],
          "name": "stdout"
        },
        {
          "output_type": "display_data",
          "data": {
            "image/png": "[encoded data removed]",
            "text/plain": [
              "<PIL.Image.Image image mode=RGB size=28x28 at 0x7F66AFA94978>"
            ]
          },
          "metadata": {
            "tags": []
          }
        },
        {
          "output_type": "stream",
          "text": [
            "Found 266389 images belonging to 1000 classes.\n",
            "Found 66095 images belonging to 1000 classes.\n"
          ],
          "name": "stdout"
        },
        {
          "output_type": "display_data",
          "data": {
            "image/png": "[encoded data removed]",
            "text/plain": [
              "<PIL.Image.Image image mode=RGB size=28x28 at 0x7F66A345CE48>"
            ]
          },
          "metadata": {
            "tags": []
          }
        },
        {
          "output_type": "stream",
          "text": [
            "Found 266389 images belonging to 1000 classes.\n",
            "Found 66095 images belonging to 1000 classes.\n"
          ],
          "name": "stdout"
        },
        {
          "output_type": "display_data",
          "data": {
            "image/png": "[encoded data removed]",
            "text/plain": [
              "<PIL.Image.Image image mode=RGB size=28x28 at 0x7F66A6916E80>"
            ]
          },
          "metadata": {
            "tags": []
          }
        }
      ]
    },
    {
      "cell_type": "code",
      "metadata": {
        "id": "Kk_uIlV4liXT",
        "colab_type": "code",
        "colab": {}
      },
      "source": [
        "from keras.models import Sequential\n",
        "from keras.layers import Dense\n",
        "from keras.layers import Flatten\n",
        "from keras.layers import Dropout\n",
        "from keras.layers import Activation\n",
        "from keras.layers import Convolution2D, Conv2D\n",
        "from keras.layers import MaxPooling2D, MaxPool2D\n",
        "from keras.layers import LeakyReLU\n",
        "from keras.layers import BatchNormalization\n",
        "\n",
        "# Init CNN\n",
        "classifier = [None] * 10\n",
        "for i in range(10):\n",
        "  classifier[i] = Sequential()\n",
        "\n",
        "  classifier[i].add(Conv2D(32, kernel_size = 3, activation='relu', input_shape = (28, 28, 1)))\n",
        "  classifier[i].add(BatchNormalization())\n",
        "  classifier[i].add(Conv2D(32, kernel_size = 3, activation='relu'))\n",
        "  classifier[i].add(BatchNormalization())\n",
        "  classifier[i].add(Conv2D(32, kernel_size = 5, strides=2, padding='same', activation='relu'))\n",
        "  classifier[i].add(BatchNormalization())\n",
        "  classifier[i].add(Dropout(0.4))\n",
        "\n",
        "  classifier[i].add(Conv2D(64, kernel_size = 3, activation='relu'))\n",
        "  classifier[i].add(BatchNormalization())\n",
        "  classifier[i].add(Conv2D(64, kernel_size = 3, activation='relu'))\n",
        "  classifier[i].add(BatchNormalization())\n",
        "  classifier[i].add(Conv2D(64, kernel_size = 5, strides=2, padding='same', activation='relu'))\n",
        "  classifier[i].add(BatchNormalization())\n",
        "  classifier[i].add(Dropout(0.4))\n",
        "\n",
        "  classifier[i].add(Conv2D(128, kernel_size = 4, activation='relu'))\n",
        "  classifier[i].add(BatchNormalization())\n",
        "  classifier[i].add(Flatten())\n",
        "  classifier[i].add(Dropout(0.4))\n",
        "  classifier[i].add(Dense(1000, activation='softmax'))\n",
        "\n",
        "  classifier[i].compile(optimizer='adam', loss='categorical_crossentropy', metrics=['accuracy'])"
      ],
      "execution_count": 0,
      "outputs": []
    },
    {
      "cell_type": "markdown",
      "metadata": {
        "id": "Mb41NR8MRwBH",
        "colab_type": "text"
      },
      "source": [
        "Because train process of 10 CNNs is long process I will save weights to my Google Drive"
      ]
    },
    {
      "cell_type": "code",
      "metadata": {
        "id": "ndN4kCH9R8u2",
        "colab_type": "code",
        "colab": {}
      },
      "source": [
        "from google.colab import drive\n",
        "drive.mount('/content/drive')"
      ],
      "execution_count": 0,
      "outputs": []
    },
    {
      "cell_type": "code",
      "metadata": {
        "id": "d9mh6s1SqfN9",
        "colab_type": "code",
        "colab": {}
      },
      "source": [
        "from IPython import display\n",
        "from PIL import Image\n",
        "from keras.callbacks import ModelCheckpoint, LearningRateScheduler\n",
        "\n",
        "annealer = LearningRateScheduler(lambda x: 1e-3 * 0.9 ** x)\n",
        "for i in range(0,10):\n",
        "  checkpoint_path = \"/content/drive/My Drive/cp{}.ckpt\".format(i)\n",
        "  # Callback that will save weights\n",
        "  cp_callback = ModelCheckpoint(filepath=checkpoint_path,\n",
        "                                save_weights_only=True,\n",
        "                                verbose=1)\n",
        "  if os.path.exists(checkpoint_path):\n",
        "    classifier[i].load_weights(checkpoint_path)\n",
        "\n",
        "  classifier[i].fit_generator(\n",
        "      training_set[i],\n",
        "      steps_per_epoch=240000//32,\n",
        "      epochs=20,\n",
        "      validation_data=test_set[i],\n",
        "      validation_steps=300,\n",
        "      callbacks=[cp_callback, annealer]\n",
        "  )"
      ],
      "execution_count": 0,
      "outputs": []
    },
    {
      "cell_type": "markdown",
      "metadata": {
        "id": "pCkS6XrYTCfv",
        "colab_type": "text"
      },
      "source": [
        "Download test data"
      ]
    },
    {
      "cell_type": "code",
      "metadata": {
        "id": "2harwUD4Tk-S",
        "colab_type": "code",
        "outputId": "8a197e36-c472-4550-d45d-6e4253433bfe",
        "colab": {
          "base_uri": "https://localhost:8080/",
          "height": 35
        }
      },
      "source": [
        "if not os.path.exists(\"/content/test/\"):\n",
        "  os.makedirs(\"/content/test/\")\n",
        "data = np.load(\"characters/test.npy\")\n",
        "\n",
        "for i in range(len(data)):\n",
        "  cv2.imwrite('/content/test/{}.png'.format(i), data[i])"
      ],
      "execution_count": 8,
      "outputs": [
        {
          "output_type": "stream",
          "text": [
            "(83247,)\n"
          ],
          "name": "stdout"
        }
      ]
    },
    {
      "cell_type": "code",
      "metadata": {
        "id": "WjBqC9prVtk6",
        "colab_type": "code",
        "colab": {}
      },
      "source": [
        "length = data.shape[0]\n",
        "del data"
      ],
      "execution_count": 0,
      "outputs": []
    },
    {
      "cell_type": "markdown",
      "metadata": {
        "id": "yFsMtpbUUgXG",
        "colab_type": "text"
      },
      "source": [
        "Create dictionary of the labels"
      ]
    },
    {
      "cell_type": "code",
      "metadata": {
        "id": "Fuy4FDH7bvSS",
        "colab_type": "code",
        "colab": {}
      },
      "source": [
        "data = np.load(\"characters/train-1.npy\")\n",
        "y_train = data[:,1]\n",
        "dictionary = {}\n",
        "j = 0\n",
        "for i in np.unique(y_train):\n",
        "    dictionary[j] = i \n",
        "    j = j + 1\n",
        "\n",
        "del data"
      ],
      "execution_count": 0,
      "outputs": []
    },
    {
      "cell_type": "markdown",
      "metadata": {
        "id": "dhgVMaBEUu4A",
        "colab_type": "text"
      },
      "source": [
        "Make predictions by combining each CNN's predictions.\n",
        "Save results to csv file."
      ]
    },
    {
      "cell_type": "code",
      "metadata": {
        "id": "XdoaQTKYIkQ6",
        "colab_type": "code",
        "colab": {}
      },
      "source": [
        "f = open('predictions.csv','w')\n",
        "f.write(\"Id,Category\\n\")\n",
        "\n",
        "for i in range(length):\n",
        "  img = cv2.imread('/content/test/{}.png'.format(i), cv2.IMREAD_GRAYSCALE)\n",
        "  img = cv2.resize(img /255, (28, 28), interpolation = cv2.INTER_AREA)\n",
        "  img = np.expand_dims(img, axis=2)\n",
        "  img = np.expand_dims(img, axis=0)\n",
        "  ans = classifier[0].predict(img)\n",
        "  for j in range(1, 10):\n",
        "    ans = ans + classifier[j].predict(img)\n",
        "  f.write((str(i+1) + \",\" + str(dictionary[ans.argmax()]))+'\\n')\n",
        "  del img\n",
        "\n",
        "f.close()"
      ],
      "execution_count": 0,
      "outputs": []
    }
  ]
}