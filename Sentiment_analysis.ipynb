{
  "nbformat": 4,
  "nbformat_minor": 0,
  "metadata": {
    "colab": {
      "name": "Sentiment analysis.ipynb",
      "provenance": [],
      "collapsed_sections": [],
      "include_colab_link": true
    },
    "kernelspec": {
      "name": "python3",
      "display_name": "Python 3"
    }
  },
  "cells": [
    {
      "cell_type": "markdown",
      "metadata": {
        "id": "view-in-github",
        "colab_type": "text"
      },
      "source": [
        "<a href=\"https://colab.research.google.com/github/tema7707/My-little-Kaggle-projects/blob/master/Sentiment_analysis.ipynb\" target=\"_parent\"><img src=\"https://colab.research.google.com/assets/colab-badge.svg\" alt=\"Open In Colab\"/></a>"
      ]
    },
    {
      "cell_type": "markdown",
      "metadata": {
        "id": "2vvQE8_spJKs",
        "colab_type": "text"
      },
      "source": [
        "## Sentiment analysis (without sentiments)\n",
        "\n",
        "Download dataset from Kaggle\n",
        "\n",
        "https://www.kaggle.com/c/iad-deep-learning-sentiment"
      ]
    },
    {
      "cell_type": "code",
      "metadata": {
        "id": "HuDmTMlxIvR6",
        "colab_type": "code",
        "colab": {}
      },
      "source": [
        "# download data frome kaggle\n",
        "!pip install -q kaggle/\n",
        "from google.colab import files\n",
        "files.upload()\n",
        "!mkdir ~/.kaggle\n",
        "!cp kaggle.json ~/.kaggle/\n",
        "!chmod 600 ~/.kaggle/kaggle.json\n",
        "!kaggle datasets list"
      ],
      "execution_count": 0,
      "outputs": []
    },
    {
      "cell_type": "code",
      "metadata": {
        "id": "4mIjU_J76O0k",
        "colab_type": "code",
        "colab": {
          "base_uri": "https://localhost:8080/",
          "height": 124
        },
        "outputId": "806e6e47-ba4d-4184-ad66-df950dd9fe70"
      },
      "source": [
        "from google.colab import drive\n",
        "drive.mount('/content/drive')"
      ],
      "execution_count": 2,
      "outputs": [
        {
          "output_type": "stream",
          "text": [
            "Go to this URL in a browser: https://accounts.google.com/o/oauth2/auth?client_id=947318989803-6bn6qk8qdgf4n4g3pfee6491hc0brc4i.apps.googleusercontent.com&redirect_uri=urn%3aietf%3awg%3aoauth%3a2.0%3aoob&response_type=code&scope=email%20https%3a%2f%2fwww.googleapis.com%2fauth%2fdocs.test%20https%3a%2f%2fwww.googleapis.com%2fauth%2fdrive%20https%3a%2f%2fwww.googleapis.com%2fauth%2fdrive.photos.readonly%20https%3a%2f%2fwww.googleapis.com%2fauth%2fpeopleapi.readonly\n",
            "\n",
            "Enter your authorization code:\n",
            "··········\n",
            "Mounted at /content/drive\n"
          ],
          "name": "stdout"
        }
      ]
    },
    {
      "cell_type": "code",
      "metadata": {
        "id": "GiXwNwblJ0MA",
        "colab_type": "code",
        "colab": {}
      },
      "source": [
        "!kaggle competitions download -c iad-deep-learning-sentiment\n",
        "!mkdir input\n",
        "!unzip x_test.txt.zip -d input\n",
        "!unzip x_train.txt.zip -d input\n",
        "!unzip y_train.csv.zip -d input\n",
        "!unzip random_prediction.csv.zip -d '/content/drive/My Drive/sentiment analysis'"
      ],
      "execution_count": 0,
      "outputs": []
    },
    {
      "cell_type": "markdown",
      "metadata": {
        "id": "-Xw-EQWlp1Tx",
        "colab_type": "text"
      },
      "source": [
        "Import packages and read data using pandas"
      ]
    },
    {
      "cell_type": "code",
      "metadata": {
        "id": "_-pJWf4xIl89",
        "colab_type": "code",
        "colab": {}
      },
      "source": [
        "import numpy as np\n",
        "import pandas as pd\n",
        "from sklearn import datasets\n",
        "from sklearn.model_selection import train_test_split, GridSearchCV\n",
        "from sklearn.pipeline import Pipeline\n",
        "from sklearn.linear_model import LinearRegression, Ridge, Lasso, ElasticNet\n",
        "from sklearn.preprocessing import StandardScaler, MinMaxScaler, PolynomialFeatures\n",
        "from sklearn.base import TransformerMixin,BaseEstimator\n",
        "from sklearn.metrics import make_scorer\n",
        "from sklearn.feature_extraction.text import TfidfVectorizer\n",
        "from sklearn.model_selection import cross_val_score, ShuffleSplit\n",
        "from sklearn.linear_model import LogisticRegression\n",
        "from sklearn.metrics import roc_auc_score, accuracy_score\n",
        "import numpy as np\n",
        "import pandas as pd\n",
        "from tqdm import tqdm\n",
        "import os\n",
        "\n",
        "pred=pd.read_csv('/content/drive/My Drive/sentiment analysis/random_prediction.csv')\n",
        "y_train = pd.read_csv('/input/y_train.csv')\n",
        "y_train = y_train['Probability']\n",
        "\n",
        "with open('/input/x_train.txt', 'r') as f:\n",
        "    x_train = f.readlines()\n",
        "with open('/input/x_test.txt', 'r') as f:\n",
        "    x_test = f.readlines()\n",
        "x_train = pd.DataFrame(x_train, columns=['reviews'])['reviews']\n",
        "x_test = pd.DataFrame(x_test, columns=['reviews'])['reviews']"
      ],
      "execution_count": 0,
      "outputs": []
    },
    {
      "cell_type": "code",
      "metadata": {
        "id": "PbXWWuE_JU6t",
        "colab_type": "code",
        "colab": {
          "base_uri": "https://localhost:8080/",
          "height": 35
        },
        "outputId": "8c31f9e2-f01d-4116-ee41-83d919a9f821"
      },
      "source": [
        "vectorizer = TfidfVectorizer(encoding='utf8', \n",
        "                             min_df=5, \n",
        "                             ngram_range=(1, 2), \n",
        "                             max_features=10000)\n",
        "vectorizer.fit(x_train[0:int(1e6)])\n",
        "\n",
        "X_train = vectorizer.transform(x_train)\n",
        "X_test = vectorizer.transform(x_test)\n",
        "print(X_train.shape, X_test.shape)"
      ],
      "execution_count": 5,
      "outputs": [
        {
          "output_type": "stream",
          "text": [
            "(3600000, 10000) (400000, 10000)\n"
          ],
          "name": "stdout"
        }
      ]
    },
    {
      "cell_type": "code",
      "metadata": {
        "id": "y4GB35mmJXGD",
        "colab_type": "code",
        "colab": {
          "base_uri": "https://localhost:8080/",
          "height": 159
        },
        "outputId": "28a6f065-e3c4-4985-b432-27f8107ffba0"
      },
      "source": [
        "lr = LogisticRegression()\n",
        "lr.fit(X_train, y_train)"
      ],
      "execution_count": 6,
      "outputs": [
        {
          "output_type": "stream",
          "text": [
            "/usr/local/lib/python3.6/dist-packages/sklearn/linear_model/logistic.py:432: FutureWarning: Default solver will be changed to 'lbfgs' in 0.22. Specify a solver to silence this warning.\n",
            "  FutureWarning)\n"
          ],
          "name": "stderr"
        },
        {
          "output_type": "execute_result",
          "data": {
            "text/plain": [
              "LogisticRegression(C=1.0, class_weight=None, dual=False, fit_intercept=True,\n",
              "                   intercept_scaling=1, l1_ratio=None, max_iter=100,\n",
              "                   multi_class='warn', n_jobs=None, penalty='l2',\n",
              "                   random_state=None, solver='warn', tol=0.0001, verbose=0,\n",
              "                   warm_start=False)"
            ]
          },
          "metadata": {
            "tags": []
          },
          "execution_count": 6
        }
      ]
    },
    {
      "cell_type": "code",
      "metadata": {
        "id": "MfgBWobYJfMe",
        "colab_type": "code",
        "colab": {}
      },
      "source": [
        "preds = lr.predict_proba(X_test)[:,1]"
      ],
      "execution_count": 0,
      "outputs": []
    },
    {
      "cell_type": "code",
      "metadata": {
        "id": "ZiySoHQLJgwq",
        "colab_type": "code",
        "colab": {
          "base_uri": "https://localhost:8080/",
          "height": 260
        },
        "outputId": "25fdb718-5eb4-4e12-ca53-8511a2a57d09"
      },
      "source": [
        "pred=pd.read_csv('/content/drive/My Drive/sentiment analysis/random_prediction.csv')\n",
        "pred['Probability'] = preds\n",
        "pred = pred['Probability'].round()\n",
        "pred = pred.reset_index()\n",
        "pred.columns = ['Id', 'Probability']\n",
        "pred['Id'] = pred['Id'] + 1\n",
        "print(pred)\n",
        "pred.to_csv('/content/drive/My Drive/sentiment analysis/results.csv',index=False)"
      ],
      "execution_count": 27,
      "outputs": [
        {
          "output_type": "stream",
          "text": [
            "            Id  Probability\n",
            "0            1          1.0\n",
            "1            2          1.0\n",
            "2            3          0.0\n",
            "3            4          0.0\n",
            "4            5          1.0\n",
            "...        ...          ...\n",
            "399995  399996          0.0\n",
            "399996  399997          0.0\n",
            "399997  399998          0.0\n",
            "399998  399999          1.0\n",
            "399999  400000          0.0\n",
            "\n",
            "[400000 rows x 2 columns]\n"
          ],
          "name": "stdout"
        }
      ]
    }
  ]
}